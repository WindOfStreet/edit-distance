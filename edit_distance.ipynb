{
 "cells": [
  {
   "cell_type": "code",
   "execution_count": 1,
   "metadata": {},
   "outputs": [],
   "source": [
    "from edit_distance import EditDistance"
   ]
  },
  {
   "cell_type": "code",
   "execution_count": 2,
   "metadata": {},
   "outputs": [
    {
     "name": "stdout",
     "output_type": "stream",
     "text": [
      "ABCDECG和ABCCEF的编辑距离为3。\n",
      "[('remove', 'G'), 'ABCDEC']\n",
      "[('replace', 'F'), 'ABCDEF']\n",
      "[('replace', 'C'), 'ABCCEF']\n"
     ]
    }
   ],
   "source": [
    "Calc = EditDistance(itcost=1, rmcost=1, rpcost=1)\n",
    "str1 = 'ABCDECG'\n",
    "str2 = 'ABCCEF'\n",
    "Calc.parse_results(str1, str2)\n",
    "print('{}和{}的编辑距离为{}。'.format(str1, str2, Calc.distance))\n",
    "# 打印操作步骤：\n",
    "for item in Calc.all_steps:\n",
    "    print(item)"
   ]
  },
  {
   "cell_type": "markdown",
   "metadata": {},
   "source": [
    "#### 替换和插入、删除操作代价相同时，ting=》tong的编辑距离为1，即替换："
   ]
  },
  {
   "cell_type": "code",
   "execution_count": 3,
   "metadata": {},
   "outputs": [
    {
     "name": "stdout",
     "output_type": "stream",
     "text": [
      "ting和tong的编辑距离为1。\n",
      "[('replace', 'o'), 'tong']\n"
     ]
    }
   ],
   "source": [
    "str1 = 'ting'\n",
    "str2 = 'tong'\n",
    "Calc.parse_results(str1, str2)\n",
    "print('{}和{}的编辑距离为{}。'.format(str1, str2, Calc.distance))\n",
    "for item in Calc.all_steps:\n",
    "    print(item)"
   ]
  },
  {
   "cell_type": "markdown",
   "metadata": {},
   "source": [
    "#### 将替换的代价改为5，则编辑距离也随之改变："
   ]
  },
  {
   "cell_type": "code",
   "execution_count": 4,
   "metadata": {},
   "outputs": [
    {
     "name": "stdout",
     "output_type": "stream",
     "text": [
      "ting和tong的编辑距离为2。\n",
      "[('remove', 'i'), 'tng']\n",
      "[('insert', 'o'), 'tong']\n"
     ]
    }
   ],
   "source": [
    "Calc = EditDistance(itcost=1, rmcost=1, rpcost=5)\n",
    "str1 = 'ting'\n",
    "str2 = 'tong'\n",
    "Calc.parse_results(str1, str2)\n",
    "print('{}和{}的编辑距离为{}。'.format(str1, str2, Calc.distance))\n",
    "for item in Calc.all_steps:\n",
    "    print(item)"
   ]
  }
 ],
 "metadata": {
  "kernelspec": {
   "display_name": "Python 3",
   "language": "python",
   "name": "python3"
  },
  "language_info": {
   "codemirror_mode": {
    "name": "ipython",
    "version": 3
   },
   "file_extension": ".py",
   "mimetype": "text/x-python",
   "name": "python",
   "nbconvert_exporter": "python",
   "pygments_lexer": "ipython3",
   "version": "3.7.7"
  }
 },
 "nbformat": 4,
 "nbformat_minor": 4
}
